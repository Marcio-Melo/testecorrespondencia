{
 "cells": [
  {
   "cell_type": "code",
   "execution_count": 57,
   "metadata": {},
   "outputs": [],
   "source": [
    "import script\n",
    "from func.color import color\n",
    "\n",
    "val_especifico = {'Ano': '2014',\n",
    "                  'Pacote': 'PC',\n",
    "                  'Local Arquivos': 'd:/Users/marcio.melo/Documents/Script_Validação_RDE/ScriptValidacao/RDE/Arquivos/PC/2014'}\n",
    "\n",
    "#Valores de exceção\n",
    "val_excec = ['#NULO', '-1', '#NE', '-3', '#NULO#', '#NE#']\n",
    "\n",
    "resultado = script.rodar(val_especifico, val_excec)"
   ]
  },
  {
   "cell_type": "markdown",
   "metadata": {},
   "source": []
  },
  {
   "cell_type": "markdown",
   "id": "2061b99a",
   "metadata": {},
   "source": [
    "# Relatório de Testes\n",
    "\n",
    "\n",
    "## Arquivos RDE Legado\n",
    "### Resultado das Eleições 2022 [SMG]\n",
    "\n",
    "#### Versão 0.6\n",
    "\n",
    "---\n",
    "\n",
    "### Histórico de Versões\n",
    "\n",
    "#### 0.6 _[24/10/2022] - Márcio Ribeiro de Melo (marcio.melo@tse.jus.br)_\n",
    "1. Inclusão de testes de conteúdo do arquivo (arquivos vazios).\n",
    "\n",
    "#### 0.5 _[24/05/2022] - Diogo M. Neiva (diogo.neiva@tse.jus.br)_\n",
    "1. Inclusão de testes de conteúdo do arquivo (arquivos vazios).\n",
    "\n",
    "#### 0.4 _[09/02/2022] - Diogo M. Neiva (diogo.neiva@tse.jus.br)_\n",
    "1. Inclusão de testes do pacote de prestação de contas\n",
    "\n",
    "#### 0.3.1 _[13/01/2021] - Diogo M. Neiva (diogo.neiva@tse.jus.br)_\n",
    "1. Correção de bug na verificação da ordem do cabeçalho;\n",
    "2. Tratamento de exceções em pacotes com arquivos não esperados.\n",
    "\n",
    "#### 0.3 _[10/01/2021] - Diogo M. Neiva (diogo.neiva@tse.jus.br)_\n",
    "1. Testes de pacote de arquivos de Resultado das Eleições 2002;\n",
    "2. Registro de dados de resumo dos arquivos.\n",
    "\n",
    "#### 0.2 _[17/11/2021] - Diogo M. Neiva (diogo.neiva@tse.jus.br)_\n",
    "1. Organização da arquitetura prevendo reuso;\n",
    "2. Novas Verificações:\n",
    "    - Arquivos do Lote;\n",
    "    - Ordem do Cabeçalho;\n",
    "    - Valores Classificatórios;\n",
    "3. Adoção de índice para avaliação de campos de exceção\n",
    "4. Capacidade de avaliar todos arquivos do lote;\n",
    "5. Resumo do relatório conciso;\n",
    "6. Geração de um arquivo .csv com resultado da verificação.\n",
    "\n",
    "#### 0.1 _[11/10/2021] - Diogo M. Neiva (diogo.neiva@tse.jus.br)_\n",
    "1. Versão inicial do Relatório - Prova de Conceito.\n",
    "\n",
    "\n",
    "#### Backlog\n",
    "\n",
    "1. Teste de campos classificatórios tipo B;\n",
    "2. Teste de campos classificatórios combinados;\n",
    "3. Teste de dados de candidatos, fornecedores e doadores;\n",
    "4. Teste de sumarização.\n",
    "\n",
    "---\n",
    "\n",
    "\n",
    "### 1. Introdução\n",
    "Este relatório contém a descrição dos aspectos relativos aos testes executados que visam obter a qualidade dos arquivos gerados para publicação no Repositório de Dados Eleitoral (RDE). \n",
    "\n",
    "\n",
    "\n",
    "### 2. Objetivos\n",
    "A execução dos testes visam atingir os seguintes objetivos:\n",
    "\n",
    "#### 2.1 Objetivo Geral\n",
    "Garantir qualidade de dados e meta-dados para que os arquivos sejam publicados.\n",
    "\n",
    "#### 2.2 Objetivos Específicos\n",
    "\n",
    "1. Aderência às Leis de Dados Abertos;\n",
    "2. Aderência aos 8 princípios dos Dados Abertos;\n",
    "3. Aderência à Lei de Acesso à Informação;\n",
    "4. Coerência entre a descrição do LEIA-ME e os arquivos gerados.\n",
    "\n",
    "\n",
    "### 3. Escopo\n",
    "\n",
    "1. Avaliação dos arquivos de prestação de contas de candidatos dos 26 estados mais o Distrito Federal;\n",
    "2. Os testes visam avaliar padrões de dados, cabeçalhos, formato de arquivo, formato de dados, conteúdo dos arquivos e integridade de dados (este último ainda em desenvolvimento).\n",
    "\n",
    "\n",
    "### 4. Estratégia\n",
    "Para aferiação de qualidade dos dados é utilizada a técnica de **Teste Exploratório** com auxílio de scripts automatizados em python.\n",
    "\n",
    "### 5. Ambiente\n",
    "\n",
    "#### Hardware\n",
    "<blockquote>    \n",
    "Processador\tIntel(R) Core(TM) i7-3770 CPU @ 3.40GHz   3.90 GHz<br>    \n",
    "RAM instalada\t16,0 GB<br>\n",
    "Tipo de sistema\tSistema operacional de 64 bits, processador baseado em x64\n",
    "</blockquote>\n",
    "\n",
    "#### Sistema Operacional\n",
    "<blockquote>\n",
    "Edição\tWindows 10 Pro<br>    \n",
    "Versão\t20H2<br> \n",
    "Compilação do SO\t19042.631\n",
    "</blockquote>\n",
    "\n",
    "#### Jupyter Notebook\n",
    "<blockquote>\n",
    "The version of the notebook server is: 6.3.0<br>    \n",
    "Python 3.8.8 (default, Apr 13 2021, 15:08:03) [MSC v.1916 64 bit (AMD64)]\n",
    "</blockquote>\n",
    "\n",
    "\n",
    "\n",
    "### 6. Critérios de Aceitação\n",
    "\n",
    "1. Totalidade dos arquivos esperados para o lote;\n",
    "2. Arquivo LEIA-ME;\n",
    "3. Nome dos arquivos conforme LEIA-ME;\n",
    "4. Formato do arquivo LATIN-1;\n",
    "5. Cabeçalhos do arquivo conforme LEIA-ME;\n",
    "6. Formato de campos de data [DD/MM/AAAA];\n",
    "7. Formato de campos de hora [HH:MM:SS];\n",
    "8. Formato de campos de valores com decimal separado por vírgula;\n",
    "9. Ausência de campos vazios;\n",
    "10. Uso dos valores #NULO, #NE, -1 E -3 conforme LEIA-ME."
   ]
  },
  {
   "cell_type": "code",
   "execution_count": 58,
   "metadata": {},
   "outputs": [],
   "source": [
    "#Tratamento dos registros dos testes para geração de relatórios\n",
    "\n",
    "import pandas as pd\n",
    "\n",
    "#configuração de parâmetro de impressão dos quadros\n",
    "pd.options.display.max_colwidth = None\n",
    "pd.options.display.max_rows = None\n",
    "\n",
    "result_ver_NOK = resultado.teste[resultado.teste['Resultado'] == 'NOK']"
   ]
  },
  {
   "cell_type": "markdown",
   "metadata": {},
   "source": [
    "### 7. Resumo da execução dos testes\n",
    "Abaixo, resumo da execução do script de testes."
   ]
  },
  {
   "cell_type": "code",
   "execution_count": 59,
   "metadata": {},
   "outputs": [
    {
     "name": "stdout",
     "output_type": "stream",
     "text": [
      "Arquivo de resultado de teste gerado com sucesso!\n",
      "PC2014_20221021_1738.csv\n"
     ]
    }
   ],
   "source": [
    "from datetime import datetime\n",
    "nomeArq = val_especifico['Pacote'] + val_especifico['Ano'] + datetime.today().strftime('_%Y%m%d_%H%M') + \".csv\"\n",
    "\n",
    "\n",
    "resultado.teste.to_csv('../Relatorios/Relatório_' + nomeArq, encoding='Latin-1')\n",
    "resultado.resumo.to_csv('../Relatorios/Resumo_' + nomeArq, encoding='Latin-1')\n",
    "\n",
    "print('Arquivo de resultado de teste gerado com sucesso!')\n",
    "print(nomeArq)"
   ]
  },
  {
   "cell_type": "markdown",
   "metadata": {},
   "source": [
    "### 8. Resultado dos testes\n",
    "As informações apresentadas a seguir são saídas dos algoritmos de teste dos arquivos e apresentam apenas as não conformidades encontradas.\n",
    "\n",
    "#### 8.1 Resumo do Resultado dos Testes\n",
    "Abaixo, resumo para os testes realizados."
   ]
  },
  {
   "cell_type": "code",
   "execution_count": 60,
   "metadata": {
    "scrolled": true
   },
   "outputs": [
    {
     "name": "stdout",
     "output_type": "stream",
     "text": [
      "\u001b[1mQuantidade de testes realizados: 245\n",
      "Densidade de defeitos: 99.59%\u001b[0m\n"
     ]
    }
   ],
   "source": [
    "#Cálculo da cobertura de testes\n",
    "result_ver_NOK = resultado.teste[resultado.teste['Resultado'] == 'NOK']\n",
    "\n",
    "densidade = ((len(resultado.teste[resultado.teste['Resultado'] == 'NOK']) / len(resultado.teste))*100)\n",
    "\n",
    "print(color.BOLD + 'Quantidade de testes realizados: {:,}'.format(len(resultado.teste)))\n",
    "print('Densidade de defeitos: %.2f' %densidade + '%'+ color.END)\n"
   ]
  },
  {
   "cell_type": "code",
   "execution_count": 61,
   "metadata": {},
   "outputs": [
    {
     "data": {
      "image/png": "[encoded data removed]",
      "text/plain": [
       "<Figure size 640x480 with 1 Axes>"
      ]
     },
     "metadata": {},
     "output_type": "display_data"
    }
   ],
   "source": [
    "import matplotlib.pyplot as plt\n",
    "import numpy as np\n",
    "\n",
    "try:\n",
    "\n",
    "    graf = resultado.teste.pivot_table(values='Coluna', index='Teste', columns='Resultado', aggfunc='count')\\\n",
    "                                  .reset_index().fillna(0).sort_values('NOK', ascending=False)\n",
    "\n",
    "    plt.rcdefaults()\n",
    "    fig, ax = plt.subplots()\n",
    "\n",
    "    ax.barh(graf['Teste'], graf['NOK'], align='center')\n",
    "    # ax.set_yticks(graf['NOK'])\n",
    "    ax.invert_yaxis()  # labels read top-to-bottom\n",
    "    ax.set_xlabel('Somatório dos defeitos por tipo de teste.')\n",
    "    ax.set_title('Quantidade de Defeitos')\n",
    "\n",
    "    for i, v in enumerate(graf['NOK']):\n",
    "        ax.text(v +3, i +0.25, str(v),\n",
    "                color = 'black')\n",
    "\n",
    "    plt.show()\n",
    "\n",
    "except KeyError:\n",
    "    print(color.BOLD + 'Não foram encontrados defeitos.'+ color.END)"
   ]
  },
  {
   "cell_type": "markdown",
   "metadata": {},
   "source": [
    "#### 8.2 Detalhamento das não conformidades\n",
    "\n",
    "##### 8.2.1 Quantidade de Arquivos no Lote\n",
    "Este valor é calculado a partir do tipo de lote de arquivos e tipo de eleição."
   ]
  },
  {
   "cell_type": "code",
   "execution_count": 62,
   "metadata": {
    "scrolled": true
   },
   "outputs": [
    {
     "data": {
      "text/html": [
       "<div>\n",
       "<style scoped>\n",
       "    .dataframe tbody tr th:only-of-type {\n",
       "        vertical-align: middle;\n",
       "    }\n",
       "\n",
       "    .dataframe tbody tr th {\n",
       "        vertical-align: top;\n",
       "    }\n",
       "\n",
       "    .dataframe thead th {\n",
       "        text-align: right;\n",
       "    }\n",
       "</style>\n",
       "<table border=\"1\" class=\"dataframe\">\n",
       "  <thead>\n",
       "    <tr style=\"text-align: right;\">\n",
       "      <th></th>\n",
       "      <th>Teste</th>\n",
       "      <th>Valor Esperado</th>\n",
       "      <th>Valor Obtido</th>\n",
       "      <th>Arquivo</th>\n",
       "    </tr>\n",
       "  </thead>\n",
       "  <tbody>\n",
       "    <tr>\n",
       "      <th>0</th>\n",
       "      <td>Quantidade de Arquivos</td>\n",
       "      <td>242</td>\n",
       "      <td>1</td>\n",
       "      <td>d:/Users/marcio.melo/Documents/Script_Validação_RDE/ScriptValidacao/RDE/Arquivos/PC/2014d:/Users/marcio.melo/Documents/Script_Validação_RDE/ScriptValidacao/RDE/Arquivos/PC/2014Candidatosd:/Users/marcio.melo/Documents/Script_Validação_RDE/ScriptValidacao/RDE/Arquivos/PC/2014Órgãos Partidários</td>\n",
       "    </tr>\n",
       "  </tbody>\n",
       "</table>\n",
       "</div>"
      ],
      "text/plain": [
       "                    Teste  Valor Esperado  Valor Obtido  \\\n",
       "0  Quantidade de Arquivos             242             1   \n",
       "\n",
       "                                                                                                                                                                                                                                                                                                Arquivo  \n",
       "0  d:/Users/marcio.melo/Documents/Script_Validação_RDE/ScriptValidacao/RDE/Arquivos/PC/2014d:/Users/marcio.melo/Documents/Script_Validação_RDE/ScriptValidacao/RDE/Arquivos/PC/2014Candidatosd:/Users/marcio.melo/Documents/Script_Validação_RDE/ScriptValidacao/RDE/Arquivos/PC/2014Órgãos Partidários  "
      ]
     },
     "execution_count": 62,
     "metadata": {},
     "output_type": "execute_result"
    }
   ],
   "source": [
    "result_ver_NOK_temp = result_ver_NOK[result_ver_NOK['Teste'] == 'Quantidade de Arquivos'].groupby(['Teste'])[['Valor Esperado', 'Valor Obtido', 'Arquivo']].sum().reset_index()\n",
    "\n",
    "if result_ver_NOK_temp.empty:\n",
    "    print('Não foram encontrados defeitos.')\n",
    "    \n",
    "result_ver_NOK_temp"
   ]
  },
  {
   "cell_type": "markdown",
   "metadata": {},
   "source": [
    "##### 8.2.2 Arquivos esperados no pacote\n",
    "Arquivos listados abaixo não foram encontrados no pacote."
   ]
  },
  {
   "cell_type": "code",
   "execution_count": 63,
   "metadata": {},
   "outputs": [
    {
     "data": {
      "text/html": [
       "<div>\n",
       "<style scoped>\n",
       "    .dataframe tbody tr th:only-of-type {\n",
       "        vertical-align: middle;\n",
       "    }\n",
       "\n",
       "    .dataframe tbody tr th {\n",
       "        vertical-align: top;\n",
       "    }\n",
       "\n",
       "    .dataframe thead th {\n",
       "        text-align: right;\n",
       "    }\n",
       "</style>\n",
       "<table border=\"1\" class=\"dataframe\">\n",
       "  <thead>\n",
       "    <tr style=\"text-align: right;\">\n",
       "      <th></th>\n",
       "      <th>Valor Obtido</th>\n",
       "      <th>Tipo</th>\n",
       "      <th>UF</th>\n",
       "    </tr>\n",
       "  </thead>\n",
       "  <tbody>\n",
       "    <tr>\n",
       "      <th>0</th>\n",
       "      <td>Não encontrado</td>\n",
       "      <td>despesas-contratadas-candidatos</td>\n",
       "      <td>[leiame]</td>\n",
       "    </tr>\n",
       "    <tr>\n",
       "      <th>1</th>\n",
       "      <td>Não encontrado</td>\n",
       "      <td>despesas-contratadas-orgaos-partidarios</td>\n",
       "      <td>[leiame]</td>\n",
       "    </tr>\n",
       "    <tr>\n",
       "      <th>2</th>\n",
       "      <td>Não encontrado</td>\n",
       "      <td>despesas-pagas-candidatos</td>\n",
       "      <td>[leiame]</td>\n",
       "    </tr>\n",
       "    <tr>\n",
       "      <th>3</th>\n",
       "      <td>Não encontrado</td>\n",
       "      <td>despesas-pagas-orgaos-partidarios</td>\n",
       "      <td>[leiame]</td>\n",
       "    </tr>\n",
       "    <tr>\n",
       "      <th>4</th>\n",
       "      <td>Não encontrado</td>\n",
       "      <td>despesas_contratadas_candidatos</td>\n",
       "      <td>[BA, CE, MA, RO, SC, MT, MG, PB, AP, AC, ES, AL, SE, TO, SP, PI, BR, RS, GO, DF, BRASIL, MS, RN, PE, RJ, AM, PA, PR, RR]</td>\n",
       "    </tr>\n",
       "    <tr>\n",
       "      <th>5</th>\n",
       "      <td>Não encontrado</td>\n",
       "      <td>despesas_contratadas_orgaos_partidarios</td>\n",
       "      <td>[CE, BRASIL, MS, RN, AP, RS, BA, RO, PA, AL, RJ, MG, ES, GO, PI, BR, AM, TO, MT, MA, SC, SP, PE, DF, RR, SE, PB, PR, AC]</td>\n",
       "    </tr>\n",
       "    <tr>\n",
       "      <th>6</th>\n",
       "      <td>Não encontrado</td>\n",
       "      <td>despesas_pagas_candidatos</td>\n",
       "      <td>[AM, BR, PA, AP, GO, RS, RR, ES, BRASIL, CE, PB, MT, TO, MS, AL, DF, MA, RN, MG, PE, SP, RO, AC, PR, PI, SC, RJ, SE, BA]</td>\n",
       "    </tr>\n",
       "    <tr>\n",
       "      <th>7</th>\n",
       "      <td>Não encontrado</td>\n",
       "      <td>despesas_pagas_orgaos_partidarios</td>\n",
       "      <td>[AP, RN, MA, AC, RO, RS, PE, AM, AL, ES, SC, PI, SP, TO, SE, BRASIL, GO, RJ, BR, BA, MG, MT, PR, CE, RR, PB, DF, PA, MS]</td>\n",
       "    </tr>\n",
       "    <tr>\n",
       "      <th>8</th>\n",
       "      <td>Não encontrado</td>\n",
       "      <td>receitas-candidatos</td>\n",
       "      <td>[leiame]</td>\n",
       "    </tr>\n",
       "    <tr>\n",
       "      <th>9</th>\n",
       "      <td>Não encontrado</td>\n",
       "      <td>receitas-candidatos-doador-originario</td>\n",
       "      <td>[leiame]</td>\n",
       "    </tr>\n",
       "    <tr>\n",
       "      <th>10</th>\n",
       "      <td>Não encontrado</td>\n",
       "      <td>receitas-orgaos-partidarios</td>\n",
       "      <td>[leiame]</td>\n",
       "    </tr>\n",
       "    <tr>\n",
       "      <th>11</th>\n",
       "      <td>Não encontrado</td>\n",
       "      <td>receitas-orgaos-partidarios-doador-originario</td>\n",
       "      <td>[leiame]</td>\n",
       "    </tr>\n",
       "    <tr>\n",
       "      <th>12</th>\n",
       "      <td>Não encontrado</td>\n",
       "      <td>receitas_candidatos</td>\n",
       "      <td>[PE, GO, SE, PA, AM, RR, MA, BA, BRASIL, RS, RO, RN, MT, MS, PR, PB, ES, AP, DF, SP, AC, RJ, SC, AL, PI, MG, BR, TO, CE]</td>\n",
       "    </tr>\n",
       "    <tr>\n",
       "      <th>13</th>\n",
       "      <td>Não encontrado</td>\n",
       "      <td>receitas_candidatos_doador_originario</td>\n",
       "      <td>[MT, DF, SP, PB, AM, MA, BR, BA, RO, ES, AL, MS, PI, BRASIL, TO, RS, RJ, SC, AP, MG, PE, CE, RN, RR, PR, GO, SE, AC, PA]</td>\n",
       "    </tr>\n",
       "    <tr>\n",
       "      <th>14</th>\n",
       "      <td>Não encontrado</td>\n",
       "      <td>receitas_orgaos_partidarios</td>\n",
       "      <td>[MA, MT, SE, PB, ES, MG, SP, DF, RN, RS, AP, GO, BRASIL, PA, BA, TO, SC, PR, PE, AC, RO, MS, RR, AL, RJ, AM, CE, PI, BR]</td>\n",
       "    </tr>\n",
       "    <tr>\n",
       "      <th>15</th>\n",
       "      <td>Não encontrado</td>\n",
       "      <td>receitas_orgaos_partidarios_doador_originario</td>\n",
       "      <td>[RJ, PB, DF, GO, AC, RS, RN, AL, AM, ES, CE, PR, PA, PE, BA, TO, MS, PI, RO, MG, RR, MT, SE, MA, BR, AP, BRASIL, SC, SP]</td>\n",
       "    </tr>\n",
       "    <tr>\n",
       "      <th>16</th>\n",
       "      <td>Não encontrado</td>\n",
       "      <td>Órgãos Partidários</td>\n",
       "      <td>[]</td>\n",
       "    </tr>\n",
       "  </tbody>\n",
       "</table>\n",
       "</div>"
      ],
      "text/plain": [
       "      Valor Obtido                                           Tipo  \\\n",
       "0   Não encontrado                despesas-contratadas-candidatos   \n",
       "1   Não encontrado        despesas-contratadas-orgaos-partidarios   \n",
       "2   Não encontrado                      despesas-pagas-candidatos   \n",
       "3   Não encontrado              despesas-pagas-orgaos-partidarios   \n",
       "4   Não encontrado                despesas_contratadas_candidatos   \n",
       "5   Não encontrado        despesas_contratadas_orgaos_partidarios   \n",
       "6   Não encontrado                      despesas_pagas_candidatos   \n",
       "7   Não encontrado              despesas_pagas_orgaos_partidarios   \n",
       "8   Não encontrado                            receitas-candidatos   \n",
       "9   Não encontrado          receitas-candidatos-doador-originario   \n",
       "10  Não encontrado                    receitas-orgaos-partidarios   \n",
       "11  Não encontrado  receitas-orgaos-partidarios-doador-originario   \n",
       "12  Não encontrado                            receitas_candidatos   \n",
       "13  Não encontrado          receitas_candidatos_doador_originario   \n",
       "14  Não encontrado                    receitas_orgaos_partidarios   \n",
       "15  Não encontrado  receitas_orgaos_partidarios_doador_originario   \n",
       "16  Não encontrado                             Órgãos Partidários   \n",
       "\n",
       "                                                                                                                          UF  \n",
       "0                                                                                                                   [leiame]  \n",
       "1                                                                                                                   [leiame]  \n",
       "2                                                                                                                   [leiame]  \n",
       "3                                                                                                                   [leiame]  \n",
       "4   [BA, CE, MA, RO, SC, MT, MG, PB, AP, AC, ES, AL, SE, TO, SP, PI, BR, RS, GO, DF, BRASIL, MS, RN, PE, RJ, AM, PA, PR, RR]  \n",
       "5   [CE, BRASIL, MS, RN, AP, RS, BA, RO, PA, AL, RJ, MG, ES, GO, PI, BR, AM, TO, MT, MA, SC, SP, PE, DF, RR, SE, PB, PR, AC]  \n",
       "6   [AM, BR, PA, AP, GO, RS, RR, ES, BRASIL, CE, PB, MT, TO, MS, AL, DF, MA, RN, MG, PE, SP, RO, AC, PR, PI, SC, RJ, SE, BA]  \n",
       "7   [AP, RN, MA, AC, RO, RS, PE, AM, AL, ES, SC, PI, SP, TO, SE, BRASIL, GO, RJ, BR, BA, MG, MT, PR, CE, RR, PB, DF, PA, MS]  \n",
       "8                                                                                                                   [leiame]  \n",
       "9                                                                                                                   [leiame]  \n",
       "10                                                                                                                  [leiame]  \n",
       "11                                                                                                                  [leiame]  \n",
       "12  [PE, GO, SE, PA, AM, RR, MA, BA, BRASIL, RS, RO, RN, MT, MS, PR, PB, ES, AP, DF, SP, AC, RJ, SC, AL, PI, MG, BR, TO, CE]  \n",
       "13  [MT, DF, SP, PB, AM, MA, BR, BA, RO, ES, AL, MS, PI, BRASIL, TO, RS, RJ, SC, AP, MG, PE, CE, RN, RR, PR, GO, SE, AC, PA]  \n",
       "14  [MA, MT, SE, PB, ES, MG, SP, DF, RN, RS, AP, GO, BRASIL, PA, BA, TO, SC, PR, PE, AC, RO, MS, RR, AL, RJ, AM, CE, PI, BR]  \n",
       "15  [RJ, PB, DF, GO, AC, RS, RN, AL, AM, ES, CE, PR, PA, PE, BA, TO, MS, PI, RO, MG, RR, MT, SE, MA, BR, AP, BRASIL, SC, SP]  \n",
       "16                                                                                                                        []  "
      ]
     },
     "execution_count": 63,
     "metadata": {},
     "output_type": "execute_result"
    }
   ],
   "source": [
    "result_ver_NOK_temp = result_ver_NOK[(result_ver_NOK['Teste'] == 'Nome dos Arquivos') &\n",
    "                                     (result_ver_NOK['Valor Obtido'] == 'Não encontrado')].groupby(['Valor Obtido', 'Tipo'])['UF'].apply(list).reset_index()\n",
    "\n",
    "if result_ver_NOK_temp.empty:\n",
    "    print('Não foram encontrados defeitos.')\n",
    "    \n",
    "result_ver_NOK_temp"
   ]
  },
  {
   "cell_type": "markdown",
   "metadata": {},
   "source": [
    "##### 8.2.3 Arquivos não esperados no pacote\n",
    "Arquivos listados abaixo não fazem parte do pacote."
   ]
  },
  {
   "cell_type": "code",
   "execution_count": 64,
   "metadata": {},
   "outputs": [
    {
     "name": "stdout",
     "output_type": "stream",
     "text": [
      "Não foram encontrados defeitos.\n"
     ]
    },
    {
     "data": {
      "text/html": [
       "<div>\n",
       "<style scoped>\n",
       "    .dataframe tbody tr th:only-of-type {\n",
       "        vertical-align: middle;\n",
       "    }\n",
       "\n",
       "    .dataframe tbody tr th {\n",
       "        vertical-align: top;\n",
       "    }\n",
       "\n",
       "    .dataframe thead th {\n",
       "        text-align: right;\n",
       "    }\n",
       "</style>\n",
       "<table border=\"1\" class=\"dataframe\">\n",
       "  <thead>\n",
       "    <tr style=\"text-align: right;\">\n",
       "      <th></th>\n",
       "      <th>Valor Obtido</th>\n",
       "      <th>Valor Esperado</th>\n",
       "    </tr>\n",
       "  </thead>\n",
       "  <tbody>\n",
       "  </tbody>\n",
       "</table>\n",
       "</div>"
      ],
      "text/plain": [
       "Empty DataFrame\n",
       "Columns: [Valor Obtido, Valor Esperado]\n",
       "Index: []"
      ]
     },
     "execution_count": 64,
     "metadata": {},
     "output_type": "execute_result"
    }
   ],
   "source": [
    "result_ver_NOK_temp = result_ver_NOK[(result_ver_NOK['Teste'] == 'Nome dos Arquivos') & (result_ver_NOK['Valor Obtido'] != 'Não encontrado')].groupby(['Valor Obtido'])['Valor Esperado'].apply(list).reset_index()\n",
    "\n",
    "if result_ver_NOK_temp.empty:\n",
    "    print('Não foram encontrados defeitos.')\n",
    "    \n",
    "result_ver_NOK_temp"
   ]
  },
  {
   "cell_type": "markdown",
   "metadata": {},
   "source": [
    "##### 8.2.4 Conteúdo do Arquivo\n",
    "Os arquivos abaixo apresentaram inconformidades quanto ao conteúdo do arquivo (vazio)."
   ]
  },
  {
   "cell_type": "code",
   "execution_count": 65,
   "metadata": {},
   "outputs": [
    {
     "name": "stdout",
     "output_type": "stream",
     "text": [
      "Não foram encontrados defeitos.\n"
     ]
    },
    {
     "data": {
      "text/html": [
       "<div>\n",
       "<style scoped>\n",
       "    .dataframe tbody tr th:only-of-type {\n",
       "        vertical-align: middle;\n",
       "    }\n",
       "\n",
       "    .dataframe tbody tr th {\n",
       "        vertical-align: top;\n",
       "    }\n",
       "\n",
       "    .dataframe thead th {\n",
       "        text-align: right;\n",
       "    }\n",
       "</style>\n",
       "<table border=\"1\" class=\"dataframe\">\n",
       "  <thead>\n",
       "    <tr style=\"text-align: right;\">\n",
       "      <th></th>\n",
       "      <th>Coluna</th>\n",
       "      <th>Tipo</th>\n",
       "      <th>Valor Esperado</th>\n",
       "      <th>Valor Obtido</th>\n",
       "      <th>UF</th>\n",
       "    </tr>\n",
       "  </thead>\n",
       "  <tbody>\n",
       "  </tbody>\n",
       "</table>\n",
       "</div>"
      ],
      "text/plain": [
       "Empty DataFrame\n",
       "Columns: [Coluna, Tipo, Valor Esperado, Valor Obtido, UF]\n",
       "Index: []"
      ]
     },
     "execution_count": 65,
     "metadata": {},
     "output_type": "execute_result"
    }
   ],
   "source": [
    "result_ver_NOK_temp = result_ver_NOK[result_ver_NOK['Teste'] == 'Conteúdo do Arquivo'].groupby(['Coluna','Tipo']).agg({'Valor Esperado': 'first','Valor Obtido': list,'UF': list}).reset_index()\n",
    "\n",
    "if result_ver_NOK_temp.empty:\n",
    "    print('Não foram encontrados defeitos.')\n",
    "    \n",
    "result_ver_NOK_temp"
   ]
  },
  {
   "cell_type": "markdown",
   "metadata": {},
   "source": [
    "##### 8.2.5 Codificação do Arquivo\n",
    "Arquivos listados abaixo estão com codificação de caracteres inválida."
   ]
  },
  {
   "cell_type": "code",
   "execution_count": 66,
   "metadata": {},
   "outputs": [
    {
     "name": "stdout",
     "output_type": "stream",
     "text": [
      "Não foram encontrados defeitos.\n"
     ]
    },
    {
     "data": {
      "text/html": [
       "<div>\n",
       "<style scoped>\n",
       "    .dataframe tbody tr th:only-of-type {\n",
       "        vertical-align: middle;\n",
       "    }\n",
       "\n",
       "    .dataframe tbody tr th {\n",
       "        vertical-align: top;\n",
       "    }\n",
       "\n",
       "    .dataframe thead th {\n",
       "        text-align: right;\n",
       "    }\n",
       "</style>\n",
       "<table border=\"1\" class=\"dataframe\">\n",
       "  <thead>\n",
       "    <tr style=\"text-align: right;\">\n",
       "      <th></th>\n",
       "      <th>index</th>\n",
       "      <th>UF</th>\n",
       "    </tr>\n",
       "  </thead>\n",
       "  <tbody>\n",
       "  </tbody>\n",
       "</table>\n",
       "</div>"
      ],
      "text/plain": [
       "Empty DataFrame\n",
       "Columns: [index, UF]\n",
       "Index: []"
      ]
     },
     "execution_count": 66,
     "metadata": {},
     "output_type": "execute_result"
    }
   ],
   "source": [
    "result_ver_NOK_temp = result_ver_NOK[result_ver_NOK['Teste'] == 'Codificação dos Arquivos'].groupby(['Valor Obtido', 'Tipo'])['UF'].apply(list).reset_index()\n",
    "\n",
    "if result_ver_NOK_temp.empty:\n",
    "    print('Não foram encontrados defeitos.')\n",
    "    \n",
    "result_ver_NOK_temp"
   ]
  },
  {
   "cell_type": "markdown",
   "metadata": {},
   "source": [
    "##### 8.2.6 Ordem do cabeçalho\n",
    "Colunas fora de ordem para os arquivos de cada Tipo e UF."
   ]
  },
  {
   "cell_type": "code",
   "execution_count": 67,
   "metadata": {},
   "outputs": [
    {
     "name": "stdout",
     "output_type": "stream",
     "text": [
      "Não foram encontrados defeitos.\n"
     ]
    },
    {
     "data": {
      "text/html": [
       "<div>\n",
       "<style scoped>\n",
       "    .dataframe tbody tr th:only-of-type {\n",
       "        vertical-align: middle;\n",
       "    }\n",
       "\n",
       "    .dataframe tbody tr th {\n",
       "        vertical-align: top;\n",
       "    }\n",
       "\n",
       "    .dataframe thead th {\n",
       "        text-align: right;\n",
       "    }\n",
       "</style>\n",
       "<table border=\"1\" class=\"dataframe\">\n",
       "  <thead>\n",
       "    <tr style=\"text-align: right;\">\n",
       "      <th></th>\n",
       "      <th>index</th>\n",
       "      <th>UF</th>\n",
       "    </tr>\n",
       "  </thead>\n",
       "  <tbody>\n",
       "  </tbody>\n",
       "</table>\n",
       "</div>"
      ],
      "text/plain": [
       "Empty DataFrame\n",
       "Columns: [index, UF]\n",
       "Index: []"
      ]
     },
     "execution_count": 67,
     "metadata": {},
     "output_type": "execute_result"
    }
   ],
   "source": [
    "result_ver_NOK_temp = result_ver_NOK[result_ver_NOK['Teste'] == 'Ordem do Cabeçalho'].groupby(['Valor Esperado', 'Valor Obtido', 'Tipo'])['UF'].apply(list).reset_index()\n",
    "\n",
    "\n",
    "if result_ver_NOK_temp.empty:\n",
    "    print('Não foram encontrados defeitos.')\n",
    "    \n",
    "result_ver_NOK_temp\n"
   ]
  },
  {
   "cell_type": "markdown",
   "metadata": {},
   "source": [
    "##### 8.2.7 Colunas sobressalentes no arquivo\n",
    "Colunas presente nos arquivos .csv e não declaradas no Leia-me."
   ]
  },
  {
   "cell_type": "code",
   "execution_count": 68,
   "metadata": {},
   "outputs": [
    {
     "name": "stdout",
     "output_type": "stream",
     "text": [
      "Não foram encontrados defeitos.\n"
     ]
    },
    {
     "data": {
      "text/html": [
       "<div>\n",
       "<style scoped>\n",
       "    .dataframe tbody tr th:only-of-type {\n",
       "        vertical-align: middle;\n",
       "    }\n",
       "\n",
       "    .dataframe tbody tr th {\n",
       "        vertical-align: top;\n",
       "    }\n",
       "\n",
       "    .dataframe thead th {\n",
       "        text-align: right;\n",
       "    }\n",
       "</style>\n",
       "<table border=\"1\" class=\"dataframe\">\n",
       "  <thead>\n",
       "    <tr style=\"text-align: right;\">\n",
       "      <th></th>\n",
       "      <th>index</th>\n",
       "      <th>UF</th>\n",
       "    </tr>\n",
       "  </thead>\n",
       "  <tbody>\n",
       "  </tbody>\n",
       "</table>\n",
       "</div>"
      ],
      "text/plain": [
       "Empty DataFrame\n",
       "Columns: [index, UF]\n",
       "Index: []"
      ]
     },
     "execution_count": 68,
     "metadata": {},
     "output_type": "execute_result"
    }
   ],
   "source": [
    "result_ver_NOK_temp = result_ver_NOK[result_ver_NOK['Teste'] == 'Cabeçalho do Arquivo'].groupby(['Valor Obtido', 'Tipo'])['UF'].apply(list).reset_index()\n",
    "\n",
    "if result_ver_NOK_temp.empty:\n",
    "    print('Não foram encontrados defeitos.')\n",
    "    \n",
    "result_ver_NOK_temp\n"
   ]
  },
  {
   "cell_type": "markdown",
   "metadata": {},
   "source": [
    "##### 8.2.8 Formato de Datas\n",
    "As colunas abaixo apresentaram inconformidades nos arquivos de cada Tipo e UF."
   ]
  },
  {
   "cell_type": "code",
   "execution_count": 69,
   "metadata": {},
   "outputs": [
    {
     "name": "stdout",
     "output_type": "stream",
     "text": [
      "Não foram encontrados defeitos.\n"
     ]
    },
    {
     "data": {
      "text/html": [
       "<div>\n",
       "<style scoped>\n",
       "    .dataframe tbody tr th:only-of-type {\n",
       "        vertical-align: middle;\n",
       "    }\n",
       "\n",
       "    .dataframe tbody tr th {\n",
       "        vertical-align: top;\n",
       "    }\n",
       "\n",
       "    .dataframe thead th {\n",
       "        text-align: right;\n",
       "    }\n",
       "</style>\n",
       "<table border=\"1\" class=\"dataframe\">\n",
       "  <thead>\n",
       "    <tr style=\"text-align: right;\">\n",
       "      <th></th>\n",
       "      <th>index</th>\n",
       "      <th>Valor Obtido</th>\n",
       "      <th>UF</th>\n",
       "    </tr>\n",
       "  </thead>\n",
       "  <tbody>\n",
       "  </tbody>\n",
       "</table>\n",
       "</div>"
      ],
      "text/plain": [
       "Empty DataFrame\n",
       "Columns: [index, Valor Obtido, UF]\n",
       "Index: []"
      ]
     },
     "execution_count": 69,
     "metadata": {},
     "output_type": "execute_result"
    }
   ],
   "source": [
    "result_ver_NOK_temp = result_ver_NOK[result_ver_NOK['Teste'] == 'Formato de Data'].groupby(['Coluna','Tipo']).agg({'Valor Obtido': list,\n",
    "                                                                                                                   'UF':list}).reset_index()\n",
    "if result_ver_NOK_temp.empty:\n",
    "    print('Não foram encontrados defeitos.')\n",
    "    \n",
    "result_ver_NOK_temp"
   ]
  },
  {
   "cell_type": "markdown",
   "metadata": {},
   "source": [
    "##### 8.2.9 Formato de Hora\n",
    "As colunas abaixo apresentaram inconformidades nos arquivos de cada Tipo e UF."
   ]
  },
  {
   "cell_type": "code",
   "execution_count": 70,
   "metadata": {
    "scrolled": true
   },
   "outputs": [
    {
     "name": "stdout",
     "output_type": "stream",
     "text": [
      "Não foram encontrados defeitos.\n"
     ]
    },
    {
     "data": {
      "text/html": [
       "<div>\n",
       "<style scoped>\n",
       "    .dataframe tbody tr th:only-of-type {\n",
       "        vertical-align: middle;\n",
       "    }\n",
       "\n",
       "    .dataframe tbody tr th {\n",
       "        vertical-align: top;\n",
       "    }\n",
       "\n",
       "    .dataframe thead th {\n",
       "        text-align: right;\n",
       "    }\n",
       "</style>\n",
       "<table border=\"1\" class=\"dataframe\">\n",
       "  <thead>\n",
       "    <tr style=\"text-align: right;\">\n",
       "      <th></th>\n",
       "      <th>index</th>\n",
       "      <th>UF</th>\n",
       "    </tr>\n",
       "  </thead>\n",
       "  <tbody>\n",
       "  </tbody>\n",
       "</table>\n",
       "</div>"
      ],
      "text/plain": [
       "Empty DataFrame\n",
       "Columns: [index, UF]\n",
       "Index: []"
      ]
     },
     "execution_count": 70,
     "metadata": {},
     "output_type": "execute_result"
    }
   ],
   "source": [
    "result_ver_NOK_temp = result_ver_NOK[result_ver_NOK['Teste'] == 'Formato de Hora'].groupby(['Coluna','Valor Obtido', 'Tipo'])['UF'].apply(list).reset_index()\n",
    "\n",
    "if result_ver_NOK_temp.empty:\n",
    "    print('Não foram encontrados defeitos.')\n",
    "    \n",
    "result_ver_NOK_temp"
   ]
  },
  {
   "cell_type": "markdown",
   "metadata": {},
   "source": [
    "##### 8.2.10 Formato de Números\n",
    "As colunas abaixo apresentaram inconformidades nos arquivos de cada Tipo e UF."
   ]
  },
  {
   "cell_type": "code",
   "execution_count": 71,
   "metadata": {},
   "outputs": [
    {
     "name": "stdout",
     "output_type": "stream",
     "text": [
      "Não foram encontrados defeitos.\n"
     ]
    },
    {
     "data": {
      "text/html": [
       "<div>\n",
       "<style scoped>\n",
       "    .dataframe tbody tr th:only-of-type {\n",
       "        vertical-align: middle;\n",
       "    }\n",
       "\n",
       "    .dataframe tbody tr th {\n",
       "        vertical-align: top;\n",
       "    }\n",
       "\n",
       "    .dataframe thead th {\n",
       "        text-align: right;\n",
       "    }\n",
       "</style>\n",
       "<table border=\"1\" class=\"dataframe\">\n",
       "  <thead>\n",
       "    <tr style=\"text-align: right;\">\n",
       "      <th></th>\n",
       "      <th>index</th>\n",
       "      <th>UF</th>\n",
       "    </tr>\n",
       "  </thead>\n",
       "  <tbody>\n",
       "  </tbody>\n",
       "</table>\n",
       "</div>"
      ],
      "text/plain": [
       "Empty DataFrame\n",
       "Columns: [index, UF]\n",
       "Index: []"
      ]
     },
     "execution_count": 71,
     "metadata": {},
     "output_type": "execute_result"
    }
   ],
   "source": [
    "result_ver_NOK_temp = result_ver_NOK[result_ver_NOK['Teste'] == 'Formato de Número'].groupby(['Coluna','Valor Obtido', 'Tipo'])['UF'].apply(list).reset_index()\n",
    "\n",
    "if result_ver_NOK_temp.empty:\n",
    "    print('Não foram encontrados defeitos.')\n",
    "    \n",
    "result_ver_NOK_temp"
   ]
  },
  {
   "cell_type": "markdown",
   "metadata": {},
   "source": [
    "##### 8.2.11 Células Vazias\n",
    "As colunas abaixo apresentaram inconformidades nos arquivos de cada Tipo e UF. Os valores estão expressos em unidades."
   ]
  },
  {
   "cell_type": "code",
   "execution_count": 72,
   "metadata": {},
   "outputs": [
    {
     "name": "stdout",
     "output_type": "stream",
     "text": [
      "Não foram encontrados defeitos.\n"
     ]
    },
    {
     "data": {
      "text/html": [
       "<div>\n",
       "<style scoped>\n",
       "    .dataframe tbody tr th:only-of-type {\n",
       "        vertical-align: middle;\n",
       "    }\n",
       "\n",
       "    .dataframe tbody tr th {\n",
       "        vertical-align: top;\n",
       "    }\n",
       "\n",
       "    .dataframe thead th {\n",
       "        text-align: right;\n",
       "    }\n",
       "</style>\n",
       "<table border=\"1\" class=\"dataframe\">\n",
       "  <thead>\n",
       "    <tr style=\"text-align: right;\">\n",
       "      <th></th>\n",
       "      <th>index</th>\n",
       "      <th>Valor Obtido</th>\n",
       "      <th>UF</th>\n",
       "    </tr>\n",
       "  </thead>\n",
       "  <tbody>\n",
       "  </tbody>\n",
       "</table>\n",
       "</div>"
      ],
      "text/plain": [
       "Empty DataFrame\n",
       "Columns: [index, Valor Obtido, UF]\n",
       "Index: []"
      ]
     },
     "execution_count": 72,
     "metadata": {},
     "output_type": "execute_result"
    }
   ],
   "source": [
    "result_ver_NOK_temp = result_ver_NOK[result_ver_NOK['Teste'] == 'Célula Vazia'].groupby(['Coluna','Tipo']).agg({'Valor Obtido': list,\n",
    "                                                                                                                   'UF':list}).reset_index()\n",
    "if result_ver_NOK_temp.empty:\n",
    "    print('Não foram encontrados defeitos.')\n",
    "    \n",
    "result_ver_NOK_temp"
   ]
  },
  {
   "cell_type": "markdown",
   "metadata": {},
   "source": [
    "##### 8.2.12 Valores Classificatórios\n",
    "As colunas abaixo apresentaram inconformidades nos arquivos de cada Tipo e UF."
   ]
  },
  {
   "cell_type": "code",
   "execution_count": 73,
   "metadata": {},
   "outputs": [
    {
     "name": "stdout",
     "output_type": "stream",
     "text": [
      "Não foram encontrados defeitos.\n"
     ]
    },
    {
     "data": {
      "text/html": [
       "<div>\n",
       "<style scoped>\n",
       "    .dataframe tbody tr th:only-of-type {\n",
       "        vertical-align: middle;\n",
       "    }\n",
       "\n",
       "    .dataframe tbody tr th {\n",
       "        vertical-align: top;\n",
       "    }\n",
       "\n",
       "    .dataframe thead th {\n",
       "        text-align: right;\n",
       "    }\n",
       "</style>\n",
       "<table border=\"1\" class=\"dataframe\">\n",
       "  <thead>\n",
       "    <tr style=\"text-align: right;\">\n",
       "      <th></th>\n",
       "      <th>Coluna</th>\n",
       "      <th>Tipo</th>\n",
       "      <th>Valor Obtido</th>\n",
       "      <th>Valor Esperado</th>\n",
       "      <th>UF</th>\n",
       "    </tr>\n",
       "  </thead>\n",
       "  <tbody>\n",
       "  </tbody>\n",
       "</table>\n",
       "</div>"
      ],
      "text/plain": [
       "Empty DataFrame\n",
       "Columns: [Coluna, Tipo, Valor Obtido, Valor Esperado, UF]\n",
       "Index: []"
      ]
     },
     "execution_count": 73,
     "metadata": {},
     "output_type": "execute_result"
    }
   ],
   "source": [
    "result_ver_NOK_temp = result_ver_NOK[result_ver_NOK['Teste'] == 'Valor Classificatório'].groupby(['Coluna','Tipo', 'Valor Obtido']).agg({'Valor Esperado': 'first','UF': list}).reset_index()\n",
    "\n",
    "if result_ver_NOK_temp.empty:\n",
    "    print('Não foram encontrados defeitos.')\n",
    "    \n",
    "result_ver_NOK_temp"
   ]
  },
  {
   "cell_type": "markdown",
   "metadata": {},
   "source": [
    "##### 8.2.13 Valores de Exceção #NULO\n",
    "As colunas abaixo apresentaram inconformidades nos arquivos de cada Tipo e UF."
   ]
  },
  {
   "cell_type": "code",
   "execution_count": 74,
   "metadata": {},
   "outputs": [
    {
     "name": "stdout",
     "output_type": "stream",
     "text": [
      "Não foram encontrados defeitos.\n"
     ]
    },
    {
     "data": {
      "text/html": [
       "<div>\n",
       "<style scoped>\n",
       "    .dataframe tbody tr th:only-of-type {\n",
       "        vertical-align: middle;\n",
       "    }\n",
       "\n",
       "    .dataframe tbody tr th {\n",
       "        vertical-align: top;\n",
       "    }\n",
       "\n",
       "    .dataframe thead th {\n",
       "        text-align: right;\n",
       "    }\n",
       "</style>\n",
       "<table border=\"1\" class=\"dataframe\">\n",
       "  <thead>\n",
       "    <tr style=\"text-align: right;\">\n",
       "      <th></th>\n",
       "      <th>Coluna</th>\n",
       "      <th>Tipo</th>\n",
       "      <th>Valor Esperado</th>\n",
       "      <th>Valor Obtido</th>\n",
       "      <th>UF</th>\n",
       "    </tr>\n",
       "  </thead>\n",
       "  <tbody>\n",
       "  </tbody>\n",
       "</table>\n",
       "</div>"
      ],
      "text/plain": [
       "Empty DataFrame\n",
       "Columns: [Coluna, Tipo, Valor Esperado, Valor Obtido, UF]\n",
       "Index: []"
      ]
     },
     "execution_count": 74,
     "metadata": {},
     "output_type": "execute_result"
    }
   ],
   "source": [
    "result_ver_NOK_temp = result_ver_NOK[result_ver_NOK['Teste'] == 'Valor de Exceção #NULO'].groupby(['Coluna','Tipo']).agg({'Valor Esperado': 'first','Valor Obtido': list,'UF': list}).reset_index()\n",
    "\n",
    "if result_ver_NOK_temp.empty:\n",
    "    print('Não foram encontrados defeitos.')\n",
    "    \n",
    "result_ver_NOK_temp"
   ]
  },
  {
   "cell_type": "markdown",
   "metadata": {},
   "source": [
    "##### 8.2.14 Valores de Exceção -1\n",
    "As colunas abaixo apresentaram inconformidades nos arquivos de cada Tipo e UF."
   ]
  },
  {
   "cell_type": "code",
   "execution_count": 75,
   "metadata": {},
   "outputs": [
    {
     "name": "stdout",
     "output_type": "stream",
     "text": [
      "Não foram encontrados defeitos.\n"
     ]
    },
    {
     "data": {
      "text/html": [
       "<div>\n",
       "<style scoped>\n",
       "    .dataframe tbody tr th:only-of-type {\n",
       "        vertical-align: middle;\n",
       "    }\n",
       "\n",
       "    .dataframe tbody tr th {\n",
       "        vertical-align: top;\n",
       "    }\n",
       "\n",
       "    .dataframe thead th {\n",
       "        text-align: right;\n",
       "    }\n",
       "</style>\n",
       "<table border=\"1\" class=\"dataframe\">\n",
       "  <thead>\n",
       "    <tr style=\"text-align: right;\">\n",
       "      <th></th>\n",
       "      <th>Coluna</th>\n",
       "      <th>Tipo</th>\n",
       "      <th>Valor Esperado</th>\n",
       "      <th>Valor Obtido</th>\n",
       "      <th>UF</th>\n",
       "    </tr>\n",
       "  </thead>\n",
       "  <tbody>\n",
       "  </tbody>\n",
       "</table>\n",
       "</div>"
      ],
      "text/plain": [
       "Empty DataFrame\n",
       "Columns: [Coluna, Tipo, Valor Esperado, Valor Obtido, UF]\n",
       "Index: []"
      ]
     },
     "execution_count": 75,
     "metadata": {},
     "output_type": "execute_result"
    }
   ],
   "source": [
    "result_ver_NOK_temp = result_ver_NOK[result_ver_NOK['Teste'] == 'Valor de Exceção -1'].groupby(['Coluna','Tipo']).agg({'Valor Esperado': 'first','Valor Obtido': list,'UF': list}).reset_index()\n",
    "\n",
    "if result_ver_NOK_temp.empty:\n",
    "    print('Não foram encontrados defeitos.')\n",
    "    \n",
    "result_ver_NOK_temp"
   ]
  },
  {
   "cell_type": "markdown",
   "metadata": {},
   "source": [
    "##### 8.2.15 Valores de Exceção #NE\n",
    "As colunas abaixo apresentaram inconformidades nos arquivos de cada Tipo e UF."
   ]
  },
  {
   "cell_type": "code",
   "execution_count": 76,
   "metadata": {},
   "outputs": [
    {
     "name": "stdout",
     "output_type": "stream",
     "text": [
      "Não foram encontrados defeitos.\n"
     ]
    },
    {
     "data": {
      "text/html": [
       "<div>\n",
       "<style scoped>\n",
       "    .dataframe tbody tr th:only-of-type {\n",
       "        vertical-align: middle;\n",
       "    }\n",
       "\n",
       "    .dataframe tbody tr th {\n",
       "        vertical-align: top;\n",
       "    }\n",
       "\n",
       "    .dataframe thead th {\n",
       "        text-align: right;\n",
       "    }\n",
       "</style>\n",
       "<table border=\"1\" class=\"dataframe\">\n",
       "  <thead>\n",
       "    <tr style=\"text-align: right;\">\n",
       "      <th></th>\n",
       "      <th>Coluna</th>\n",
       "      <th>Tipo</th>\n",
       "      <th>Valor Esperado</th>\n",
       "      <th>Valor Obtido</th>\n",
       "      <th>UF</th>\n",
       "    </tr>\n",
       "  </thead>\n",
       "  <tbody>\n",
       "  </tbody>\n",
       "</table>\n",
       "</div>"
      ],
      "text/plain": [
       "Empty DataFrame\n",
       "Columns: [Coluna, Tipo, Valor Esperado, Valor Obtido, UF]\n",
       "Index: []"
      ]
     },
     "execution_count": 76,
     "metadata": {},
     "output_type": "execute_result"
    }
   ],
   "source": [
    "result_ver_NOK_temp = result_ver_NOK[result_ver_NOK['Teste'] == 'Valor de Exceção #NE'].groupby(['Coluna','Tipo']).agg({'Valor Esperado': 'first','Valor Obtido': list,'UF': list}).reset_index()\n",
    "\n",
    "if result_ver_NOK_temp.empty:\n",
    "    print('Não foram encontrados defeitos.')\n",
    "    \n",
    "result_ver_NOK_temp"
   ]
  },
  {
   "cell_type": "markdown",
   "metadata": {},
   "source": [
    "##### 8.2.16 Valores de Exceção -3\n",
    "As colunas abaixo apresentaram inconformidades nos arquivos de cada Tipo e UF."
   ]
  },
  {
   "cell_type": "code",
   "execution_count": 77,
   "metadata": {},
   "outputs": [
    {
     "name": "stdout",
     "output_type": "stream",
     "text": [
      "Não foram encontrados defeitos.\n"
     ]
    },
    {
     "data": {
      "text/html": [
       "<div>\n",
       "<style scoped>\n",
       "    .dataframe tbody tr th:only-of-type {\n",
       "        vertical-align: middle;\n",
       "    }\n",
       "\n",
       "    .dataframe tbody tr th {\n",
       "        vertical-align: top;\n",
       "    }\n",
       "\n",
       "    .dataframe thead th {\n",
       "        text-align: right;\n",
       "    }\n",
       "</style>\n",
       "<table border=\"1\" class=\"dataframe\">\n",
       "  <thead>\n",
       "    <tr style=\"text-align: right;\">\n",
       "      <th></th>\n",
       "      <th>Coluna</th>\n",
       "      <th>Tipo</th>\n",
       "      <th>Valor Esperado</th>\n",
       "      <th>Valor Obtido</th>\n",
       "      <th>UF</th>\n",
       "    </tr>\n",
       "  </thead>\n",
       "  <tbody>\n",
       "  </tbody>\n",
       "</table>\n",
       "</div>"
      ],
      "text/plain": [
       "Empty DataFrame\n",
       "Columns: [Coluna, Tipo, Valor Esperado, Valor Obtido, UF]\n",
       "Index: []"
      ]
     },
     "execution_count": 77,
     "metadata": {},
     "output_type": "execute_result"
    }
   ],
   "source": [
    "result_ver_NOK_temp = result_ver_NOK[result_ver_NOK['Teste'] == 'Valor de Exceção -3'].groupby(['Coluna','Tipo']).agg({'Valor Esperado': 'first','Valor Obtido': list,'UF': list}).reset_index()\n",
    "\n",
    "if result_ver_NOK_temp.empty:\n",
    "    print('Não foram encontrados defeitos.')\n",
    "    \n",
    "result_ver_NOK_temp"
   ]
  },
  {
   "cell_type": "markdown",
   "metadata": {},
   "source": [
    "##### 8.2.17 Valores de Exceção \\#NULO#.\n",
    "As colunas abaixo apresentaram inconformidades nos arquivos de cada Tipo e UF."
   ]
  },
  {
   "cell_type": "code",
   "execution_count": 78,
   "metadata": {},
   "outputs": [
    {
     "name": "stdout",
     "output_type": "stream",
     "text": [
      "Não foram encontrados defeitos.\n"
     ]
    },
    {
     "data": {
      "text/html": [
       "<div>\n",
       "<style scoped>\n",
       "    .dataframe tbody tr th:only-of-type {\n",
       "        vertical-align: middle;\n",
       "    }\n",
       "\n",
       "    .dataframe tbody tr th {\n",
       "        vertical-align: top;\n",
       "    }\n",
       "\n",
       "    .dataframe thead th {\n",
       "        text-align: right;\n",
       "    }\n",
       "</style>\n",
       "<table border=\"1\" class=\"dataframe\">\n",
       "  <thead>\n",
       "    <tr style=\"text-align: right;\">\n",
       "      <th></th>\n",
       "      <th>Coluna</th>\n",
       "      <th>Tipo</th>\n",
       "      <th>Valor Esperado</th>\n",
       "      <th>Valor Obtido</th>\n",
       "      <th>UF</th>\n",
       "    </tr>\n",
       "  </thead>\n",
       "  <tbody>\n",
       "  </tbody>\n",
       "</table>\n",
       "</div>"
      ],
      "text/plain": [
       "Empty DataFrame\n",
       "Columns: [Coluna, Tipo, Valor Esperado, Valor Obtido, UF]\n",
       "Index: []"
      ]
     },
     "execution_count": 78,
     "metadata": {},
     "output_type": "execute_result"
    }
   ],
   "source": [
    "result_ver_NOK_temp = result_ver_NOK[result_ver_NOK['Teste'] == 'Valor de Exceção #NULO#'].groupby(['Coluna','Tipo']).agg({'Valor Esperado': 'first','Valor Obtido': list,'UF': list}).reset_index()\n",
    "\n",
    "if result_ver_NOK_temp.empty:\n",
    "    print('Não foram encontrados defeitos.')\n",
    "    \n",
    "result_ver_NOK_temp"
   ]
  },
  {
   "cell_type": "markdown",
   "metadata": {},
   "source": [
    "##### 8.2.18 Valores de Exceção \\#NE#.\n",
    "As colunas abaixo apresentaram inconformidades nos arquivos de cada Tipo e UF."
   ]
  },
  {
   "cell_type": "code",
   "execution_count": 79,
   "metadata": {},
   "outputs": [
    {
     "name": "stdout",
     "output_type": "stream",
     "text": [
      "Não foram encontrados defeitos.\n"
     ]
    },
    {
     "data": {
      "text/html": [
       "<div>\n",
       "<style scoped>\n",
       "    .dataframe tbody tr th:only-of-type {\n",
       "        vertical-align: middle;\n",
       "    }\n",
       "\n",
       "    .dataframe tbody tr th {\n",
       "        vertical-align: top;\n",
       "    }\n",
       "\n",
       "    .dataframe thead th {\n",
       "        text-align: right;\n",
       "    }\n",
       "</style>\n",
       "<table border=\"1\" class=\"dataframe\">\n",
       "  <thead>\n",
       "    <tr style=\"text-align: right;\">\n",
       "      <th></th>\n",
       "      <th>Coluna</th>\n",
       "      <th>Tipo</th>\n",
       "      <th>Valor Esperado</th>\n",
       "      <th>Valor Obtido</th>\n",
       "      <th>UF</th>\n",
       "    </tr>\n",
       "  </thead>\n",
       "  <tbody>\n",
       "  </tbody>\n",
       "</table>\n",
       "</div>"
      ],
      "text/plain": [
       "Empty DataFrame\n",
       "Columns: [Coluna, Tipo, Valor Esperado, Valor Obtido, UF]\n",
       "Index: []"
      ]
     },
     "execution_count": 79,
     "metadata": {},
     "output_type": "execute_result"
    }
   ],
   "source": [
    "result_ver_NOK_temp = result_ver_NOK[result_ver_NOK['Teste'] == 'Valor de Exceção #NE#'].groupby(['Coluna','Tipo']).agg({'Valor Esperado': 'first','Valor Obtido': list,'UF': list}).reset_index()\n",
    "\n",
    "if result_ver_NOK_temp.empty:\n",
    "    print('Não foram encontrados defeitos.')\n",
    "    \n",
    "result_ver_NOK_temp"
   ]
  },
  {
   "cell_type": "code",
   "execution_count": 80,
   "metadata": {},
   "outputs": [
    {
     "name": "stdout",
     "output_type": "stream",
     "text": [
      "\u001b[1m\n",
      "\n",
      "\n",
      "TESTE CONCLUÍDO EM:\u001b[0m 21/10/2022 às 17:38\n"
     ]
    }
   ],
   "source": [
    "from datetime import datetime\n",
    "print(color.BOLD + '\\n\\n\\nTESTE CONCLUÍDO EM:' + color.END, datetime.today().strftime('%d/%m/%Y às %H:%M'))"
   ]
  }
 ],
 "metadata": {
  "hide_input": true,
  "kernelspec": {
   "display_name": "Python 3",
   "language": "python",
   "name": "python3"
  },
  "language_info": {
   "codemirror_mode": {
    "name": "ipython",
    "version": 3
   },
   "file_extension": ".py",
   "mimetype": "text/x-python",
   "name": "python",
   "nbconvert_exporter": "python",
   "pygments_lexer": "ipython3",
   "version": "3.7.6"
  }
 },
 "nbformat": 4,
 "nbformat_minor": 5
}
