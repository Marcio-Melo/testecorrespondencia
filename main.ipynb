{
 "cells": [
  {
   "cell_type": "code",
   "execution_count": 4,
   "metadata": {
    "tags": []
   },
   "outputs": [
    {
     "name": "stdout",
     "output_type": "stream",
     "text": [
      "modulo: main                       Teste  \\\n",
      "0    Quantidade de Arquivos   \n",
      "1         Nome dos Arquivos   \n",
      "2         Nome dos Arquivos   \n",
      "3    Quantidade de Arquivos   \n",
      "4         Nome dos Arquivos   \n",
      "..                      ...   \n",
      "240       Nome dos Arquivos   \n",
      "241       Nome dos Arquivos   \n",
      "242       Nome dos Arquivos   \n",
      "243       Nome dos Arquivos   \n",
      "244       Nome dos Arquivos   \n",
      "\n",
      "                                        Valor Esperado    Valor Obtido  \\\n",
      "0                                                    2               1   \n",
      "1                                       Candidatos.zip  Candidatos.zip   \n",
      "2                               Órgãos Partidários.zip  Não encontrado   \n",
      "3                                                  120               0   \n",
      "4                      receitas_candidatos_2014_RO.csv  Não encontrado   \n",
      "..                                                 ...             ...   \n",
      "240      despesas_pagas_orgaos_partidarios_2014_RN.csv  Não encontrado   \n",
      "241  despesas_contratadas_orgaos_partidarios_2014_R...  Não encontrado   \n",
      "242  despesas_contratadas_orgaos_partidarios_2014_P...  Não encontrado   \n",
      "243      despesas_pagas_orgaos_partidarios_2014_AL.csv  Não encontrado   \n",
      "244            receitas_orgaos_partidarios_2014_PA.csv  Não encontrado   \n",
      "\n",
      "                                               Arquivo Coluna  \\\n",
      "0    d:/Users/marcio.melo/Documents/Script_Validaçã...          \n",
      "1                                       Candidatos.zip          \n",
      "2                               Órgãos Partidários.zip          \n",
      "3    d:/Users/marcio.melo/Documents/Script_Validaçã...          \n",
      "4                      receitas_candidatos_2014_RO.csv          \n",
      "..                                                 ...    ...   \n",
      "240      despesas_pagas_orgaos_partidarios_2014_RN.csv          \n",
      "241  despesas_contratadas_orgaos_partidarios_2014_R...          \n",
      "242  despesas_contratadas_orgaos_partidarios_2014_P...          \n",
      "243      despesas_pagas_orgaos_partidarios_2014_AL.csv          \n",
      "244            receitas_orgaos_partidarios_2014_PA.csv          \n",
      "\n",
      "                                        Tipo  UF Resultado  \n",
      "0                                                      NOK  \n",
      "1                                 Candidatos            OK  \n",
      "2                         Órgãos Partidários           NOK  \n",
      "3                                                      NOK  \n",
      "4                        receitas_candidatos  RO       NOK  \n",
      "..                                       ...  ..       ...  \n",
      "240        despesas_pagas_orgaos_partidarios  RN       NOK  \n",
      "241  despesas_contratadas_orgaos_partidarios  RO       NOK  \n",
      "242  despesas_contratadas_orgaos_partidarios  PI       NOK  \n",
      "243        despesas_pagas_orgaos_partidarios  AL       NOK  \n",
      "244              receitas_orgaos_partidarios  PA       NOK  \n",
      "\n",
      "[245 rows x 8 columns]\n"
     ]
    }
   ],
   "source": [
    "import script\n",
    "\n",
    "val_especifico = {'Ano': '2014',\n",
    "                  'Pacote': 'PC',\n",
    "                  'Local Arquivos': 'd:/Users/marcio.melo/Documents/Script_Validação_RDE/ScriptValidacao/RDE/Arquivos/PC/2014'}\n",
    "\n",
    "# Valores de exceção\n",
    "val_excec = ['#NULO', '-1', '#NE', '-3', '#NULO#', '#NE#']\n",
    "\n",
    "resultado = script.rodar(val_especifico, val_excec)\n",
    "\n",
    "print('modulo: main', resultado.teste)"
   ]
  },
  {
   "cell_type": "code",
   "execution_count": null,
   "metadata": {},
   "outputs": [],
   "source": []
  }
 ],
 "metadata": {
  "kernelspec": {
   "display_name": "Python 3",
   "language": "python",
   "name": "python3"
  },
  "language_info": {
   "codemirror_mode": {
    "name": "ipython",
    "version": 3
   },
   "file_extension": ".py",
   "mimetype": "text/x-python",
   "name": "python",
   "nbconvert_exporter": "python",
   "pygments_lexer": "ipython3",
   "version": "3.7.6"
  }
 },
 "nbformat": 4,
 "nbformat_minor": 5
}
