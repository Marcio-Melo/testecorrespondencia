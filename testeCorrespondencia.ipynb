{
 "cells": [
  {
   "cell_type": "markdown",
   "id": "478cc484-248b-49fb-9e47-f80358c86f55",
   "metadata": {},
   "source": [
    "#########################  LEIA-ME  ########################################\n",
    "\n",
    "# Na mesma pasta do testeCorrespondencia.ipynb deve ter uma pasta chamada zipados e outrada chamada extraidos\n",
    "# você deve colocar todos os arquivos a serem testados na pasta zipados\n",
    "# no mesmo nível de diretório do arquivo testeCorrespondencia.ipynb você deve colocar o arquivo dadosElicao.xlsx\n",
    "\n",
    "# código versão 1.0 \n",
    "# autor: Anderson de Paiva Oliveira\n",
    "\n",
    "############################################################################"
   ]
  },
  {
   "cell_type": "code",
   "execution_count": 10,
   "id": "ae530d1e-67b9-4221-9e22-730778bec2f0",
   "metadata": {
    "tags": []
   },
   "outputs": [
    {
     "ename": "FileNotFoundError",
     "evalue": "[WinError 2] O sistema não pode encontrar o arquivo especificado: 'd://Users//marcio.melo//Documents//Script_Validação_RDE//extraidos//cmrj_1t_DF_011020221232.csv'",
     "output_type": "error",
     "traceback": [
      "\u001b[1;31m---------------------------------------------------------------------------\u001b[0m",
      "\u001b[1;31mFileNotFoundError\u001b[0m                         Traceback (most recent call last)",
      "Cell \u001b[1;32mIn[10], line 26\u001b[0m\n\u001b[0;32m     24\u001b[0m \u001b[39mfor\u001b[39;00m file \u001b[39min\u001b[39;00m \u001b[39mdir\u001b[39m:\n\u001b[0;32m     25\u001b[0m     \u001b[39mif\u001b[39;00m file\u001b[39m.\u001b[39mstartswith(\u001b[39m'\u001b[39m\u001b[39mcmrj\u001b[39m\u001b[39m'\u001b[39m) \u001b[39mor\u001b[39;00m file\u001b[39m.\u001b[39mstartswith(\u001b[39m'\u001b[39m\u001b[39mleiame\u001b[39m\u001b[39m'\u001b[39m):\n\u001b[1;32m---> 26\u001b[0m         os\u001b[39m.\u001b[39;49mremove(caminhoextraidos\u001b[39m+\u001b[39;49mfile)\n\u001b[0;32m     28\u001b[0m \u001b[39mdir\u001b[39m \u001b[39m=\u001b[39m os\u001b[39m.\u001b[39mlistdir(\u001b[39m\"\u001b[39m\u001b[39mextraidos\u001b[39m\u001b[39m\"\u001b[39m)\n\u001b[0;32m     29\u001b[0m caminhoextraidos \u001b[39m=\u001b[39m pastaComExtraidos\n",
      "\u001b[1;31mFileNotFoundError\u001b[0m: [WinError 2] O sistema não pode encontrar o arquivo especificado: 'd://Users//marcio.melo//Documents//Script_Validação_RDE//extraidos//cmrj_1t_DF_011020221232.csv'"
     ]
    }
   ],
   "source": [
    "import pandas as pd\n",
    "import requests, bs4, os\n",
    "from zipfile import ZipFile\n",
    "import warnings\n",
    "\n",
    "diretorioDoProjeto = \"d://Users//marcio.melo//Documents//Script_Validacao_RDE//\" \n",
    "pastaComZipados = diretorioDoProjeto + \"zipados//\"\n",
    "pastaComExtraidos = diretorioDoProjeto + \"extraidos//\"\n",
    "\n",
    "#warnings.simplefilter(\"ignore\")\n",
    "excel_file = pd.ExcelFile('dadosEleicao.xlsx')\n",
    "df = excel_file.parse('Sheet1')\n",
    "listaUfurnasSecao = df[[\"UF\",\"Quantidade urna seção\"]]\n",
    "listaUfurnasContingencia = df[[\"UF\",\"Quantidade urna contingência\"]]\n",
    "\n",
    "list = [] \n",
    "for (root, dirs, file) in os.walk(pastaComZipados): \n",
    "    for f in file: \n",
    "        with ZipFile(pastaComZipados + f, \"r\") as arqzip:\n",
    "            arqzip.extractall(\"extraidos\")\n",
    "            \n",
    "dir = os.listdir(\"extraidos\")\n",
    "caminhoextraidos = pastaComExtraidos\n",
    "for file in dir:\n",
    "    if file.startswith('cmrj') or file.startswith('leiame'):\n",
    "        os.remove(caminhoextraidos+file)\n",
    "    \n",
    "dir = os.listdir(\"extraidos\")\n",
    "caminhoextraidos = pastaComExtraidos\n",
    "\n",
    "quantidadeArquivosTestados = 0\n",
    "quantidaDeFalhaSecao = 0\n",
    "quantidaDeFalhaContingencia = 0\n",
    "for file in dir:\n",
    "    \n",
    "    tabela = pd.read_csv(caminhoextraidos+file, encoding='latin-1', sep=\";\")\n",
    "    totalDeRegistros = len(tabela)\n",
    "    totalDeRegistros = '[' + str(totalDeRegistros) + ']'\n",
    "    if file.startswith('ccont'):\n",
    "        siglauf = file[9:11]\n",
    "        turno = file[6:8]\n",
    "        tipoarquivo = 'Contigência'\n",
    "        quantidade = listaUfurnasContingencia.loc[(listaUfurnasContingencia['UF']==siglauf),['Quantidade urna contingência']]\n",
    "        if not (totalDeRegistros==str(quantidade.iloc[0].values)):\n",
    "            quantidaDeFalhaContingencia = quantidaDeFalhaContingencia + 1\n",
    "       \n",
    "    elif file.startswith('csec'):\n",
    "        siglauf = file[8:10]\n",
    "        turno = file[5:7]\n",
    "        tipoarquivo = 'Seção'\n",
    "        quantidade = listaUfurnasSecao.loc[(listaUfurnasSecao['UF']==siglauf),['Quantidade urna seção']]\n",
    "        if not (totalDeRegistros==str(quantidade.iloc[0].values)):\n",
    "            quantidaDeFalhaSecao = quantidaDeFalhaSecao + 1\n",
    "    \n",
    "    quantidadeArquivosTestados = quantidadeArquivosTestados + 1\n",
    "    \n",
    "    print(\"O tipo do arquivo é: \"+ tipoarquivo +\", a UF do arquivo é: \"+str(siglauf) + \", o turno é: \"+ turno +\", o arquivo tem \" + str(totalDeRegistros) + \" linhas e deveria ter: \" + str(quantidade.iloc[0].values))\n",
    "    print(\"o resultado da comparação para a UF: \" +str(siglauf)+\" é: \", end=\"\"); print (totalDeRegistros==str(quantidade.iloc[0].values))\n",
    "    print(\"\\n\")\n",
    "print(\"Quantidade de arquivos de seção inconsistentes: \" + str(quantidaDeFalhaSecao))\n",
    "print(\"Quantidade de arquivos de contingência inconsistentes: \" + str(quantidaDeFalhaContingencia))\n",
    "print(\"Total de inconsistências: \" + str(quantidaDeFalhaSecao+quantidaDeFalhaContingencia))\n",
    "print(\"Quantidade de arquivos testados: \" + str(quantidadeArquivosTestados))"
   ]
  }
 ],
 "metadata": {
  "kernelspec": {
   "display_name": "Python 3 (ipykernel)",
   "language": "python",
   "name": "python3"
  },
  "language_info": {
   "codemirror_mode": {
    "name": "ipython",
    "version": 3
   },
   "file_extension": ".py",
   "mimetype": "text/x-python",
   "name": "python",
   "nbconvert_exporter": "python",
   "pygments_lexer": "ipython3",
   "version": "3.11.3"
  },
  "vscode": {
   "interpreter": {
    "hash": "874ee8d336a569b71cde75999fc9b60400f36d721e666e756267875acd70b0c2"
   }
  }
 },
 "nbformat": 4,
 "nbformat_minor": 5
}
