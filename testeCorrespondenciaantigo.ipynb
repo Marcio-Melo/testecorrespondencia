{
 "cells": [
  {
   "cell_type": "markdown",
   "id": "478cc484-248b-49fb-9e47-f80358c86f55",
   "metadata": {},
   "source": [
    "#########################  LEIA-ME  ########################################\n",
    "\n",
    "# Na mesma pasta do testeCorrespondencia.ipynb deve ter uma pasta chamada zipados e outrada chamada extraidos\n",
    "# você deve colocar todos os arquivos a serem testados na pasta zipados\n",
    "# no mesmo nível de diretório do arquivo testeCorrespondencia.ipynb você deve colocar o arquivo dadosElicao.xlsx\n",
    "\n",
    "# código versão 1.0 \n",
    "# autor: Anderson de Paiva Oliveira\n",
    "\n",
    "############################################################################"
   ]
  },
  {
   "cell_type": "code",
   "execution_count": 1,
   "id": "ae530d1e-67b9-4221-9e22-730778bec2f0",
   "metadata": {
    "tags": []
   },
   "outputs": [
    {
     "ename": "ImportError",
     "evalue": "Missing optional dependency 'openpyxl'.  Use pip or conda to install openpyxl.",
     "output_type": "error",
     "traceback": [
      "\u001b[1;31m---------------------------------------------------------------------------\u001b[0m",
      "\u001b[1;31mModuleNotFoundError\u001b[0m                       Traceback (most recent call last)",
      "File \u001b[1;32m~\\AppData\\Local\\Programs\\Python\\Python311\\Lib\\site-packages\\pandas\\compat\\_optional.py:142\u001b[0m, in \u001b[0;36mimport_optional_dependency\u001b[1;34m(name, extra, errors, min_version)\u001b[0m\n\u001b[0;32m    141\u001b[0m \u001b[39mtry\u001b[39;00m:\n\u001b[1;32m--> 142\u001b[0m     module \u001b[39m=\u001b[39m importlib\u001b[39m.\u001b[39;49mimport_module(name)\n\u001b[0;32m    143\u001b[0m \u001b[39mexcept\u001b[39;00m \u001b[39mImportError\u001b[39;00m:\n",
      "File \u001b[1;32m~\\AppData\\Local\\Programs\\Python\\Python311\\Lib\\importlib\\__init__.py:126\u001b[0m, in \u001b[0;36mimport_module\u001b[1;34m(name, package)\u001b[0m\n\u001b[0;32m    125\u001b[0m         level \u001b[39m+\u001b[39m\u001b[39m=\u001b[39m \u001b[39m1\u001b[39m\n\u001b[1;32m--> 126\u001b[0m \u001b[39mreturn\u001b[39;00m _bootstrap\u001b[39m.\u001b[39;49m_gcd_import(name[level:], package, level)\n",
      "File \u001b[1;32m<frozen importlib._bootstrap>:1206\u001b[0m, in \u001b[0;36m_gcd_import\u001b[1;34m(name, package, level)\u001b[0m\n",
      "File \u001b[1;32m<frozen importlib._bootstrap>:1178\u001b[0m, in \u001b[0;36m_find_and_load\u001b[1;34m(name, import_)\u001b[0m\n",
      "File \u001b[1;32m<frozen importlib._bootstrap>:1142\u001b[0m, in \u001b[0;36m_find_and_load_unlocked\u001b[1;34m(name, import_)\u001b[0m\n",
      "\u001b[1;31mModuleNotFoundError\u001b[0m: No module named 'openpyxl'",
      "\nDuring handling of the above exception, another exception occurred:\n",
      "\u001b[1;31mImportError\u001b[0m                               Traceback (most recent call last)",
      "Cell \u001b[1;32mIn[1], line 11\u001b[0m\n\u001b[0;32m      8\u001b[0m pastaComExtraidos \u001b[39m=\u001b[39m diretorioDoProjeto \u001b[39m+\u001b[39m \u001b[39m\"\u001b[39m\u001b[39mextraidos//\u001b[39m\u001b[39m\"\u001b[39m\n\u001b[0;32m     10\u001b[0m warnings\u001b[39m.\u001b[39msimplefilter(\u001b[39m\"\u001b[39m\u001b[39mignore\u001b[39m\u001b[39m\"\u001b[39m)\n\u001b[1;32m---> 11\u001b[0m excel_file \u001b[39m=\u001b[39m pd\u001b[39m.\u001b[39;49mExcelFile(\u001b[39m'\u001b[39;49m\u001b[39mdadosEleicao.xlsx\u001b[39;49m\u001b[39m'\u001b[39;49m)\n\u001b[0;32m     12\u001b[0m df \u001b[39m=\u001b[39m excel_file\u001b[39m.\u001b[39mparse(\u001b[39m'\u001b[39m\u001b[39mSheet1\u001b[39m\u001b[39m'\u001b[39m)\n\u001b[0;32m     13\u001b[0m listaUfurnasSecao \u001b[39m=\u001b[39m df[[\u001b[39m\"\u001b[39m\u001b[39mUF\u001b[39m\u001b[39m\"\u001b[39m,\u001b[39m\"\u001b[39m\u001b[39mQuantidade urna seção\u001b[39m\u001b[39m\"\u001b[39m]]\n",
      "File \u001b[1;32m~\\AppData\\Local\\Programs\\Python\\Python311\\Lib\\site-packages\\pandas\\io\\excel\\_base.py:1513\u001b[0m, in \u001b[0;36mExcelFile.__init__\u001b[1;34m(self, path_or_buffer, engine, storage_options)\u001b[0m\n\u001b[0;32m   1510\u001b[0m \u001b[39mself\u001b[39m\u001b[39m.\u001b[39mengine \u001b[39m=\u001b[39m engine\n\u001b[0;32m   1511\u001b[0m \u001b[39mself\u001b[39m\u001b[39m.\u001b[39mstorage_options \u001b[39m=\u001b[39m storage_options\n\u001b[1;32m-> 1513\u001b[0m \u001b[39mself\u001b[39m\u001b[39m.\u001b[39m_reader \u001b[39m=\u001b[39m \u001b[39mself\u001b[39;49m\u001b[39m.\u001b[39;49m_engines[engine](\u001b[39mself\u001b[39;49m\u001b[39m.\u001b[39;49m_io, storage_options\u001b[39m=\u001b[39;49mstorage_options)\n",
      "File \u001b[1;32m~\\AppData\\Local\\Programs\\Python\\Python311\\Lib\\site-packages\\pandas\\io\\excel\\_openpyxl.py:548\u001b[0m, in \u001b[0;36mOpenpyxlReader.__init__\u001b[1;34m(self, filepath_or_buffer, storage_options)\u001b[0m\n\u001b[0;32m    533\u001b[0m \u001b[39m@doc\u001b[39m(storage_options\u001b[39m=\u001b[39m_shared_docs[\u001b[39m\"\u001b[39m\u001b[39mstorage_options\u001b[39m\u001b[39m\"\u001b[39m])\n\u001b[0;32m    534\u001b[0m \u001b[39mdef\u001b[39;00m \u001b[39m__init__\u001b[39m(\n\u001b[0;32m    535\u001b[0m     \u001b[39mself\u001b[39m,\n\u001b[0;32m    536\u001b[0m     filepath_or_buffer: FilePath \u001b[39m|\u001b[39m ReadBuffer[\u001b[39mbytes\u001b[39m],\n\u001b[0;32m    537\u001b[0m     storage_options: StorageOptions \u001b[39m=\u001b[39m \u001b[39mNone\u001b[39;00m,\n\u001b[0;32m    538\u001b[0m ) \u001b[39m-\u001b[39m\u001b[39m>\u001b[39m \u001b[39mNone\u001b[39;00m:\n\u001b[0;32m    539\u001b[0m \u001b[39m    \u001b[39m\u001b[39m\"\"\"\u001b[39;00m\n\u001b[0;32m    540\u001b[0m \u001b[39m    Reader using openpyxl engine.\u001b[39;00m\n\u001b[0;32m    541\u001b[0m \n\u001b[1;32m   (...)\u001b[0m\n\u001b[0;32m    546\u001b[0m \u001b[39m    {storage_options}\u001b[39;00m\n\u001b[0;32m    547\u001b[0m \u001b[39m    \"\"\"\u001b[39;00m\n\u001b[1;32m--> 548\u001b[0m     import_optional_dependency(\u001b[39m\"\u001b[39;49m\u001b[39mopenpyxl\u001b[39;49m\u001b[39m\"\u001b[39;49m)\n\u001b[0;32m    549\u001b[0m     \u001b[39msuper\u001b[39m()\u001b[39m.\u001b[39m\u001b[39m__init__\u001b[39m(filepath_or_buffer, storage_options\u001b[39m=\u001b[39mstorage_options)\n",
      "File \u001b[1;32m~\\AppData\\Local\\Programs\\Python\\Python311\\Lib\\site-packages\\pandas\\compat\\_optional.py:145\u001b[0m, in \u001b[0;36mimport_optional_dependency\u001b[1;34m(name, extra, errors, min_version)\u001b[0m\n\u001b[0;32m    143\u001b[0m \u001b[39mexcept\u001b[39;00m \u001b[39mImportError\u001b[39;00m:\n\u001b[0;32m    144\u001b[0m     \u001b[39mif\u001b[39;00m errors \u001b[39m==\u001b[39m \u001b[39m\"\u001b[39m\u001b[39mraise\u001b[39m\u001b[39m\"\u001b[39m:\n\u001b[1;32m--> 145\u001b[0m         \u001b[39mraise\u001b[39;00m \u001b[39mImportError\u001b[39;00m(msg)\n\u001b[0;32m    146\u001b[0m     \u001b[39mreturn\u001b[39;00m \u001b[39mNone\u001b[39;00m\n\u001b[0;32m    148\u001b[0m \u001b[39m# Handle submodules: if we have submodule, grab parent module from sys.modules\u001b[39;00m\n",
      "\u001b[1;31mImportError\u001b[0m: Missing optional dependency 'openpyxl'.  Use pip or conda to install openpyxl."
     ]
    }
   ],
   "source": [
    "import pandas as pd\n",
    "import requests, bs4, os\n",
    "from zipfile import ZipFile\n",
    "import warnings\n",
    "\n",
    "diretorioDoProjeto = \"d://Users//anderson.paiva//Desktop//Anderson Python//projeto_teste//\" \n",
    "pastaComZipados = diretorioDoProjeto + \"zipados//\"\n",
    "pastaComExtraidos = diretorioDoProjeto + \"extraidos//\"\n",
    "\n",
    "warnings.simplefilter(\"ignore\")\n",
    "excel_file = pd.ExcelFile('dadosEleicao.xlsx')\n",
    "df = excel_file.parse('Sheet1')\n",
    "listaUfurnasSecao = df[[\"UF\",\"Quantidade urna seção\"]]\n",
    "listaUfurnasContingencia = df[[\"UF\",\"Quantidade urna contingência\"]]\n",
    "\n",
    "list = [] \n",
    "for (root, dirs, file) in os.walk(pastaComZipados): \n",
    "    for f in file: \n",
    "        with ZipFile(pastaComZipados + f, \"r\") as arqzip:\n",
    "            arqzip.extractall(\"extraidos\")\n",
    "            \n",
    "dir = os.listdir(\"extraidos\")\n",
    "caminhoextraidos = pastaComExtraidos\n",
    "for file in dir:\n",
    "    if file.startswith('cmrj') or file.startswith('leiame'):\n",
    "        os.remove(caminhoextraidos+file)\n",
    "    \n",
    "dir = os.listdir(\"extraidos\")\n",
    "caminhoextraidos = pastaComExtraidos\n",
    "\n",
    "quantidadeArquivosTestados = 0\n",
    "quantidaDeFalhaSecao = 0\n",
    "quantidaDeFalhaContingencia = 0\n",
    "for file in dir:\n",
    "    \n",
    "    tabela = pd.read_csv(caminhoextraidos+file, encoding='latin-1', sep=\";\")\n",
    "    totalDeRegistros = len(tabela)\n",
    "    totalDeRegistros = '[' + str(totalDeRegistros) + ']'\n",
    "    if file.startswith('ccont'):\n",
    "        siglauf = file[9:11]\n",
    "        turno = file[6:8]\n",
    "        tipoarquivo = 'Contigência'\n",
    "        quantidade = listaUfurnasContingencia.loc[(listaUfurnasContingencia['UF']==siglauf),['Quantidade urna contingência']]\n",
    "        if not (totalDeRegistros==str(quantidade.iloc[0].values)):\n",
    "            quantidaDeFalhaContingencia = quantidaDeFalhaContingencia + 1\n",
    "       \n",
    "    elif file.startswith('csec'):\n",
    "        siglauf = file[8:10]\n",
    "        turno = file[5:7]\n",
    "        tipoarquivo = 'Seção'\n",
    "        quantidade = listaUfurnasSecao.loc[(listaUfurnasSecao['UF']==siglauf),['Quantidade urna seção']]\n",
    "        if not (totalDeRegistros==str(quantidade.iloc[0].values)):\n",
    "            quantidaDeFalhaSecao = quantidaDeFalhaSecao + 1\n",
    "    \n",
    "    quantidadeArquivosTestados = quantidadeArquivosTestados + 1\n",
    "    \n",
    "    print(\"O tipo do arquivo é: \"+ tipoarquivo +\", a UF do arquivo é: \"+str(siglauf) + \", o turno é: \"+ turno +\", o arquivo tem \" + str(totalDeRegistros) + \" linhas e deveria ter: \" + str(quantidade.iloc[0].values))\n",
    "    print(\"o resultado da comparação para a UF: \" +str(siglauf)+\" é: \", end=\"\"); print (totalDeRegistros==str(quantidade.iloc[0].values))\n",
    "    print(\"\\n\")\n",
    "print(\"Quantidade de arquivos de seção inconsistentes: \" + str(quantidaDeFalhaSecao))\n",
    "print(\"Quantidade de arquivos de contingência inconsistentes: \" + str(quantidaDeFalhaContingencia))\n",
    "print(\"Total de inconsistências: \" + str(quantidaDeFalhaSecao+quantidaDeFalhaContingencia))\n",
    "print(\"Quantidade de arquivos testados: \" + str(quantidadeArquivosTestados))\n",
    "\n",
    "\n"
   ]
  }
 ],
 "metadata": {
  "kernelspec": {
   "display_name": "Python 3 (ipykernel)",
   "language": "python",
   "name": "python3"
  },
  "language_info": {
   "codemirror_mode": {
    "name": "ipython",
    "version": 3
   },
   "file_extension": ".py",
   "mimetype": "text/x-python",
   "name": "python",
   "nbconvert_exporter": "python",
   "pygments_lexer": "ipython3",
   "version": "3.11.3"
  },
  "vscode": {
   "interpreter": {
    "hash": "874ee8d336a569b71cde75999fc9b60400f36d721e666e756267875acd70b0c2"
   }
  }
 },
 "nbformat": 4,
 "nbformat_minor": 5
}
